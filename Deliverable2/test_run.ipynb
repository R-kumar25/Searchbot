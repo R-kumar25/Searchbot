{
  "nbformat": 4,
  "nbformat_minor": 0,
  "metadata": {
    "colab": {
      "provenance": []
    },
    "kernelspec": {
      "name": "python3",
      "display_name": "Python 3"
    },
    "language_info": {
      "name": "python"
    }
  },
  "cells": [
    {
      "cell_type": "code",
      "source": [
        "from Deliverable2 import *\n",
        "import json\n",
        "\n",
        "# Instantiate the URLValidator class\n",
        "serp_api_key = \"Your_Serp_API\"  # Replace with your SERP API key\n",
        "validator = URLValidator(serp_api_key)\n",
        "\n",
        "# Define user prompt and URL\n",
        "user_prompt = \"Is russia and america are good friends?\"\n",
        "url_to_check = \"https://www.nytimes.com/2025/02/18/world/europe/us-russia-saudi-ukraine.html\"\n",
        "\n",
        "# Run the validation\n",
        "result = validator.rate_url_validity(user_prompt, url_to_check)\n",
        "\n",
        "# Print the results in JSON format\n",
        "print(json.dumps(result, indent=2))"
      ],
      "metadata": {
        "id": "cFFcKm64AnTk"
      },
      "execution_count": null,
      "outputs": []
    }
  ]
}